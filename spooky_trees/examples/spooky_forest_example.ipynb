{
 "cells": [
  {
   "cell_type": "markdown",
   "metadata": {},
   "source": [
    "## Imports"
   ]
  },
  {
   "cell_type": "code",
   "execution_count": 1,
   "metadata": {},
   "outputs": [],
   "source": [
    "import numpy as np\n",
    "import pandas as pd\n",
    "import sys\n",
    "\n",
    "sys.path.append(\"/home/khaymonenko/trees-and-ensembles\")\n",
    "\n",
    "from spooky_trees.criterions import SpookyEntropy\n",
    "from spooky_trees.models import SpookyForest\n",
    "from spooky_trees.preprocess import OneHotEncoder\n",
    "from spooky_trees.model_selection import KFold\n",
    "from spooky_trees.metrics import f1_score"
   ]
  },
  {
   "cell_type": "markdown",
   "metadata": {},
   "source": [
    "## Data"
   ]
  },
  {
   "cell_type": "code",
   "execution_count": 2,
   "metadata": {},
   "outputs": [
    {
     "data": {
      "text/html": [
       "<div>\n",
       "<style scoped>\n",
       "    .dataframe tbody tr th:only-of-type {\n",
       "        vertical-align: middle;\n",
       "    }\n",
       "\n",
       "    .dataframe tbody tr th {\n",
       "        vertical-align: top;\n",
       "    }\n",
       "\n",
       "    .dataframe thead th {\n",
       "        text-align: right;\n",
       "    }\n",
       "</style>\n",
       "<table border=\"1\" class=\"dataframe\">\n",
       "  <thead>\n",
       "    <tr style=\"text-align: right;\">\n",
       "      <th></th>\n",
       "      <th>does-bruise-or-bleed</th>\n",
       "      <th>habitat</th>\n",
       "      <th>season</th>\n",
       "      <th>cap-diameter</th>\n",
       "      <th>stem-height</th>\n",
       "      <th>stem-width</th>\n",
       "    </tr>\n",
       "    <tr>\n",
       "      <th>Id</th>\n",
       "      <th></th>\n",
       "      <th></th>\n",
       "      <th></th>\n",
       "      <th></th>\n",
       "      <th></th>\n",
       "      <th></th>\n",
       "    </tr>\n",
       "  </thead>\n",
       "  <tbody>\n",
       "    <tr>\n",
       "      <th>26180</th>\n",
       "      <td>f</td>\n",
       "      <td>d</td>\n",
       "      <td>w</td>\n",
       "      <td>10.58</td>\n",
       "      <td>5.27</td>\n",
       "      <td>18.35</td>\n",
       "    </tr>\n",
       "  </tbody>\n",
       "</table>\n",
       "</div>"
      ],
      "text/plain": [
       "      does-bruise-or-bleed habitat season  cap-diameter  stem-height  \\\n",
       "Id                                                                     \n",
       "26180                    f       d      w         10.58         5.27   \n",
       "\n",
       "       stem-width  \n",
       "Id                 \n",
       "26180       18.35  "
      ]
     },
     "execution_count": 2,
     "metadata": {},
     "output_type": "execute_result"
    }
   ],
   "source": [
    "TRAIN_PATH = \"/home/khaymonenko/trees-and-ensembles/data/competition/train.csv\"\n",
    "TEST_PATH = \"/home/khaymonenko/trees-and-ensembles/data/competition/test.csv\"\n",
    "\n",
    "data = pd.read_csv(TRAIN_PATH, index_col=\"Id\")\n",
    "\n",
    "X = data.drop([\"class\"], axis=1)\n",
    "y = data[\"class\"].to_numpy()\n",
    "\n",
    "X.sample()"
   ]
  },
  {
   "cell_type": "code",
   "execution_count": 3,
   "metadata": {},
   "outputs": [],
   "source": [
    "y_preprocessed = np.zeros((len(y), 2))\n",
    "y_preprocessed[y == 1, 1] = 1\n",
    "y_preprocessed[y == 0, 0] = 1"
   ]
  },
  {
   "cell_type": "code",
   "execution_count": 4,
   "metadata": {},
   "outputs": [
    {
     "data": {
      "text/plain": [
       "array([[ 8.94,  7.91, 24.55, ...,  0.  ,  1.  ,  0.  ],\n",
       "       [ 2.92,  3.59,  6.59, ...,  0.  ,  0.  ,  0.  ],\n",
       "       [ 4.11,  4.78,  3.56, ...,  0.  ,  0.  ,  0.  ],\n",
       "       ...,\n",
       "       [ 3.28,  4.29,  2.64, ...,  1.  ,  0.  ,  0.  ],\n",
       "       [ 6.7 ,  7.67, 50.19, ...,  0.  ,  0.  ,  0.  ],\n",
       "       [21.51,  4.99, 37.01, ...,  0.  ,  0.  ,  0.  ]])"
      ]
     },
     "execution_count": 4,
     "metadata": {},
     "output_type": "execute_result"
    }
   ],
   "source": [
    "TRANSFORM_COLUMNS = [\"does-bruise-or-bleed\", \"habitat\", \"season\"]\n",
    "\n",
    "encoder = OneHotEncoder(transform_columns=TRANSFORM_COLUMNS)\n",
    "\n",
    "X_preprocessed = encoder.fit_transform(X)\n",
    "X_preprocessed"
   ]
  },
  {
   "cell_type": "markdown",
   "metadata": {},
   "source": [
    "## CV"
   ]
  },
  {
   "cell_type": "code",
   "execution_count": 6,
   "metadata": {},
   "outputs": [
    {
     "name": "stderr",
     "output_type": "stream",
     "text": [
      "100%|███████████████████████████████████████| 100/100 [00:00<00:00, 4736.65it/s]\n",
      "100%|████████████████████████████████████████| 100/100 [00:00<00:00, 411.34it/s]"
     ]
    },
    {
     "name": "stdout",
     "output_type": "stream",
     "text": [
      "Split idx: 0, f1: 0.7189341532154754\n"
     ]
    },
    {
     "name": "stderr",
     "output_type": "stream",
     "text": [
      "\n",
      "100%|███████████████████████████████████████| 100/100 [00:00<00:00, 4309.10it/s]\n",
      "100%|████████████████████████████████████████| 100/100 [00:00<00:00, 360.54it/s]"
     ]
    },
    {
     "name": "stdout",
     "output_type": "stream",
     "text": [
      "Split idx: 1, f1: 0.7120041215868109\n"
     ]
    },
    {
     "name": "stderr",
     "output_type": "stream",
     "text": [
      "\n",
      "100%|███████████████████████████████████████| 100/100 [00:00<00:00, 5597.48it/s]\n",
      "100%|████████████████████████████████████████| 100/100 [00:00<00:00, 380.36it/s]"
     ]
    },
    {
     "name": "stdout",
     "output_type": "stream",
     "text": [
      "Split idx: 2, f1: 0.7103430487490328\n",
      "Avg f1: 0.7137604411837731\n"
     ]
    },
    {
     "name": "stderr",
     "output_type": "stream",
     "text": [
      "\n"
     ]
    }
   ],
   "source": [
    "kfold = KFold()\n",
    "\n",
    "metrics = []\n",
    "for split_idx, (train_ids, test_ids) in enumerate(kfold.split(len(X_preprocessed))):\n",
    "    X_train, X_test = X_preprocessed[train_ids], X_preprocessed[test_ids]\n",
    "    y_train, y_test = y_preprocessed[train_ids], y_preprocessed[test_ids]\n",
    "\n",
    "    forest = SpookyForest(criterion=SpookyEntropy, n_estimators=100, n_workers=4, n_classes=2)\n",
    "    forest.fit(X_train, y_train)\n",
    "\n",
    "    predictions = forest.predict(X_test)\n",
    "    current_f1 = f1_score(y_test, predictions)\n",
    "\n",
    "    print(f\"Split idx: {split_idx}, f1: {current_f1}\")\n",
    "    metrics.append(current_f1)\n",
    "\n",
    "print(f\"Avg f1: {np.mean(metrics)}\")"
   ]
  },
  {
   "cell_type": "markdown",
   "metadata": {},
   "source": [
    "## Train"
   ]
  }
 ],
 "metadata": {
  "kernelspec": {
   "display_name": "Python 3 (ipykernel)",
   "language": "python",
   "name": "python3"
  },
  "language_info": {
   "codemirror_mode": {
    "name": "ipython",
    "version": 3
   },
   "file_extension": ".py",
   "mimetype": "text/x-python",
   "name": "python",
   "nbconvert_exporter": "python",
   "pygments_lexer": "ipython3",
   "version": "3.11.5"
  }
 },
 "nbformat": 4,
 "nbformat_minor": 2
}
