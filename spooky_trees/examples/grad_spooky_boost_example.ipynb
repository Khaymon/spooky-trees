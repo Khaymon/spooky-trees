{
 "cells": [
  {
   "cell_type": "markdown",
   "id": "80ecc584",
   "metadata": {},
   "source": [
    "## Imports"
   ]
  },
  {
   "cell_type": "code",
   "execution_count": 1,
   "id": "91c184d0",
   "metadata": {},
   "outputs": [],
   "source": [
    "import numpy as np\n",
    "import pandas as pd\n",
    "import sys\n",
    "\n",
    "sys.path.append(\"/home/khaymonenko/trees-and-ensembles\")\n",
    "\n",
    "from spooky_trees.criterions import SpookyEntropy, SpookyMSE\n",
    "from spooky_trees.models import GradSpookyBoost, SpookyTree\n",
    "from spooky_trees.preprocess import OneHotEncoder, LabelEncoder\n",
    "from spooky_trees.model_selection import KFold, train_test_split\n",
    "from spooky_trees.metrics import f1_score"
   ]
  },
  {
   "cell_type": "markdown",
   "id": "5b251db0",
   "metadata": {},
   "source": [
    "## Data"
   ]
  },
  {
   "cell_type": "code",
   "execution_count": 2,
   "id": "f635da25",
   "metadata": {},
   "outputs": [
    {
     "data": {
      "text/html": [
       "<div>\n",
       "<style scoped>\n",
       "    .dataframe tbody tr th:only-of-type {\n",
       "        vertical-align: middle;\n",
       "    }\n",
       "\n",
       "    .dataframe tbody tr th {\n",
       "        vertical-align: top;\n",
       "    }\n",
       "\n",
       "    .dataframe thead th {\n",
       "        text-align: right;\n",
       "    }\n",
       "</style>\n",
       "<table border=\"1\" class=\"dataframe\">\n",
       "  <thead>\n",
       "    <tr style=\"text-align: right;\">\n",
       "      <th></th>\n",
       "      <th>does-bruise-or-bleed</th>\n",
       "      <th>habitat</th>\n",
       "      <th>season</th>\n",
       "      <th>cap-diameter</th>\n",
       "      <th>stem-height</th>\n",
       "      <th>stem-width</th>\n",
       "    </tr>\n",
       "    <tr>\n",
       "      <th>Id</th>\n",
       "      <th></th>\n",
       "      <th></th>\n",
       "      <th></th>\n",
       "      <th></th>\n",
       "      <th></th>\n",
       "      <th></th>\n",
       "    </tr>\n",
       "  </thead>\n",
       "  <tbody>\n",
       "    <tr>\n",
       "      <th>28177</th>\n",
       "      <td>t</td>\n",
       "      <td>d</td>\n",
       "      <td>a</td>\n",
       "      <td>6.42</td>\n",
       "      <td>4.5</td>\n",
       "      <td>11.71</td>\n",
       "    </tr>\n",
       "  </tbody>\n",
       "</table>\n",
       "</div>"
      ],
      "text/plain": [
       "      does-bruise-or-bleed habitat season  cap-diameter  stem-height  \\\n",
       "Id                                                                     \n",
       "28177                    t       d      a          6.42          4.5   \n",
       "\n",
       "       stem-width  \n",
       "Id                 \n",
       "28177       11.71  "
      ]
     },
     "execution_count": 2,
     "metadata": {},
     "output_type": "execute_result"
    }
   ],
   "source": [
    "TRAIN_PATH = \"/home/khaymonenko/trees-and-ensembles/data/competition/train.csv\"\n",
    "TEST_PATH = \"/home/khaymonenko/trees-and-ensembles/data/competition/test.csv\"\n",
    "\n",
    "data = pd.read_csv(TRAIN_PATH, index_col=\"Id\")\n",
    "\n",
    "X = data.drop([\"class\"], axis=1)\n",
    "y = data[\"class\"].to_numpy()\n",
    "\n",
    "X.sample()"
   ]
  },
  {
   "cell_type": "code",
   "execution_count": 3,
   "id": "8c3ba902",
   "metadata": {},
   "outputs": [],
   "source": [
    "y_preprocessed = np.zeros((len(y), 2))\n",
    "y_preprocessed[y == 1, 1] = 1\n",
    "y_preprocessed[y == 0, 0] = 1"
   ]
  },
  {
   "cell_type": "code",
   "execution_count": 4,
   "id": "6ba3df7b",
   "metadata": {},
   "outputs": [
    {
     "data": {
      "text/plain": [
       "array([[ 0.  ,  0.  ,  0.  ,  8.94,  7.91, 24.55],\n",
       "       [ 1.  ,  1.  ,  1.  ,  2.92,  3.59,  6.59],\n",
       "       [ 1.  ,  1.  ,  1.  ,  4.11,  4.78,  3.56],\n",
       "       ...,\n",
       "       [ 1.  ,  0.  ,  2.  ,  3.28,  4.29,  2.64],\n",
       "       [ 1.  ,  4.  ,  1.  ,  6.7 ,  7.67, 50.19],\n",
       "       [ 1.  ,  0.  ,  1.  , 21.51,  4.99, 37.01]])"
      ]
     },
     "execution_count": 4,
     "metadata": {},
     "output_type": "execute_result"
    }
   ],
   "source": [
    "TRANSFORM_COLUMNS = [\"does-bruise-or-bleed\", \"habitat\", \"season\"]\n",
    "CAT_COLUMNS_IDS = {0, 1, 2}\n",
    "\n",
    "# encoder = OneHotEncoder(transform_columns=TRANSFORM_COLUMNS)\n",
    "encoder = LabelEncoder(TRANSFORM_COLUMNS)\n",
    "\n",
    "X_preprocessed = encoder.fit_transform(X)\n",
    "X_preprocessed"
   ]
  },
  {
   "cell_type": "markdown",
   "id": "1bc1cad4",
   "metadata": {},
   "source": [
    "## CV"
   ]
  },
  {
   "cell_type": "code",
   "execution_count": 5,
   "id": "4b8b1c70",
   "metadata": {},
   "outputs": [
    {
     "ename": "AttributeError",
     "evalue": "'GradSpookyBoost' object has no attribute 'predict'",
     "output_type": "error",
     "traceback": [
      "\u001b[0;31m---------------------------------------------------------------------------\u001b[0m",
      "\u001b[0;31mAttributeError\u001b[0m                            Traceback (most recent call last)",
      "Cell \u001b[0;32mIn[5], line 9\u001b[0m\n\u001b[1;32m      6\u001b[0m     y_train, y_test \u001b[38;5;241m=\u001b[39m y_preprocessed[train_ids], y_preprocessed[test_ids]\n\u001b[1;32m      8\u001b[0m     forest \u001b[38;5;241m=\u001b[39m GradSpookyBoost(criterion\u001b[38;5;241m=\u001b[39mSpookyEntropy, max_depth\u001b[38;5;241m=\u001b[39m\u001b[38;5;241m2\u001b[39m, n_estimators\u001b[38;5;241m=\u001b[39m\u001b[38;5;241m100\u001b[39m, n_classes\u001b[38;5;241m=\u001b[39m\u001b[38;5;241m2\u001b[39m, learning_rate\u001b[38;5;241m=\u001b[39m\u001b[38;5;241m1e-2\u001b[39m)\n\u001b[0;32m----> 9\u001b[0m     predictions \u001b[38;5;241m=\u001b[39m forest\u001b[38;5;241m.\u001b[39mpredict(X_test)\n\u001b[1;32m     10\u001b[0m \u001b[38;5;66;03m#     print(predictions)\u001b[39;00m\n\u001b[1;32m     11\u001b[0m     current_f1 \u001b[38;5;241m=\u001b[39m f1_score(y_test, predictions\u001b[38;5;241m.\u001b[39margmax(axis\u001b[38;5;241m=\u001b[39m\u001b[38;5;241m1\u001b[39m))\n",
      "\u001b[0;31mAttributeError\u001b[0m: 'GradSpookyBoost' object has no attribute 'predict'"
     ]
    }
   ],
   "source": [
    "kfold = KFold()\n",
    "\n",
    "metrics = []\n",
    "for split_idx, (train_ids, test_ids) in enumerate(kfold.split(len(X_preprocessed))):\n",
    "    X_train, X_test = X_preprocessed[train_ids], X_preprocessed[test_ids]\n",
    "    y_train, y_test = y_preprocessed[train_ids], y_preprocessed[test_ids]\n",
    "\n",
    "    forest = GradSpookyBoost(criterion=SpookyEntropy, max_depth=2, n_estimators=100, n_classes=2, learning_rate=1e-2)\n",
    "    predictions = forest.predict(X_test)\n",
    "#     print(predictions)\n",
    "    current_f1 = f1_score(y_test, predictions.argmax(axis=1))\n",
    "\n",
    "    print(f\"Split idx: {split_idx}, f1: {current_f1}\")\n",
    "    metrics.append(current_f1)\n",
    "\n",
    "print(f\"Avg f1: {np.mean(metrics)}\")"
   ]
  },
  {
   "cell_type": "markdown",
   "id": "8dd87fba",
   "metadata": {},
   "source": [
    "## Train"
   ]
  },
  {
   "cell_type": "code",
   "execution_count": 6,
   "id": "6eacacea",
   "metadata": {},
   "outputs": [],
   "source": [
    "X_train, X_test, y_train, y_test = train_test_split(X_preprocessed, y_preprocessed, test_size=0.2)"
   ]
  },
  {
   "cell_type": "code",
   "execution_count": null,
   "id": "f406115e",
   "metadata": {},
   "outputs": [
    {
     "name": "stderr",
     "output_type": "stream",
     "text": [
      "val metric: 0.840, lr: 0.020:  19%|██▎         | 19/100 [00:53<03:48,  2.82s/it]"
     ]
    }
   ],
   "source": [
    "forest = GradSpookyBoost(\n",
    "    criterion=SpookyEntropy,\n",
    "    n_estimators=100,\n",
    "    n_classes=2,\n",
    "    learning_rate=0.02,\n",
    "    learning_rate_decay=0.9,\n",
    "    max_depth=10,\n",
    "    min_information_gain=5e-5,\n",
    "    min_samples_split=2,\n",
    "    rsm=0.9,\n",
    "    early_stop=True,\n",
    "    early_stop_patience=20,\n",
    "    reduce_lr_on_plateu=True,\n",
    "    reduce_lr_on_plateu_patience=15,\n",
    "#     cat_features=CAT_COLUMNS_IDS,\n",
    ")\n",
    "\n",
    "forest.fit(X_train, y_train)"
   ]
  },
  {
   "cell_type": "code",
   "execution_count": 15,
   "id": "ae3bbc8a",
   "metadata": {},
   "outputs": [
    {
     "data": {
      "text/plain": [
       "0.8431603773584906"
      ]
     },
     "execution_count": 15,
     "metadata": {},
     "output_type": "execute_result"
    }
   ],
   "source": [
    "f1_score(y_test, forest.predict_proba(X_test))"
   ]
  },
  {
   "cell_type": "code",
   "execution_count": null,
   "id": "5ae8db5b",
   "metadata": {},
   "outputs": [],
   "source": []
  }
 ],
 "metadata": {
  "kernelspec": {
   "display_name": "Python 3 (ipykernel)",
   "language": "python",
   "name": "python3"
  },
  "language_info": {
   "codemirror_mode": {
    "name": "ipython",
    "version": 3
   },
   "file_extension": ".py",
   "mimetype": "text/x-python",
   "name": "python",
   "nbconvert_exporter": "python",
   "pygments_lexer": "ipython3",
   "version": "3.11.5"
  }
 },
 "nbformat": 4,
 "nbformat_minor": 5
}
