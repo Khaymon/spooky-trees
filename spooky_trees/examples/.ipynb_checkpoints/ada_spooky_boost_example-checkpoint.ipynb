{
 "cells": [
  {
   "cell_type": "markdown",
   "metadata": {},
   "source": [
    "## Imports"
   ]
  },
  {
   "cell_type": "code",
   "execution_count": 1,
   "metadata": {},
   "outputs": [],
   "source": [
    "import numpy as np\n",
    "import pandas as pd\n",
    "import sys\n",
    "\n",
    "sys.path.append(\"/home/khaymon/spooky-trees/\")\n",
    "\n",
    "from spooky_trees.criterions import SpookyEntropy, SpookyMSE\n",
    "from spooky_trees.models import AdaSpookyBoost, SpookyTree\n",
    "from spooky_trees.preprocess import OneHotEncoder, LabelEncoder\n",
    "from spooky_trees.model_selection import KFold, train_test_split\n",
    "from spooky_trees.metrics import f1_score"
   ]
  },
  {
   "cell_type": "markdown",
   "metadata": {},
   "source": [
    "## Data"
   ]
  },
  {
   "cell_type": "code",
   "execution_count": 2,
   "metadata": {},
   "outputs": [
    {
     "data": {
      "text/html": [
       "<div>\n",
       "<style scoped>\n",
       "    .dataframe tbody tr th:only-of-type {\n",
       "        vertical-align: middle;\n",
       "    }\n",
       "\n",
       "    .dataframe tbody tr th {\n",
       "        vertical-align: top;\n",
       "    }\n",
       "\n",
       "    .dataframe thead th {\n",
       "        text-align: right;\n",
       "    }\n",
       "</style>\n",
       "<table border=\"1\" class=\"dataframe\">\n",
       "  <thead>\n",
       "    <tr style=\"text-align: right;\">\n",
       "      <th></th>\n",
       "      <th>does-bruise-or-bleed</th>\n",
       "      <th>habitat</th>\n",
       "      <th>season</th>\n",
       "      <th>cap-diameter</th>\n",
       "      <th>stem-height</th>\n",
       "      <th>stem-width</th>\n",
       "    </tr>\n",
       "    <tr>\n",
       "      <th>Id</th>\n",
       "      <th></th>\n",
       "      <th></th>\n",
       "      <th></th>\n",
       "      <th></th>\n",
       "      <th></th>\n",
       "      <th></th>\n",
       "    </tr>\n",
       "  </thead>\n",
       "  <tbody>\n",
       "    <tr>\n",
       "      <th>34365</th>\n",
       "      <td>f</td>\n",
       "      <td>g</td>\n",
       "      <td>a</td>\n",
       "      <td>2.31</td>\n",
       "      <td>7.8</td>\n",
       "      <td>2.6</td>\n",
       "    </tr>\n",
       "  </tbody>\n",
       "</table>\n",
       "</div>"
      ],
      "text/plain": [
       "      does-bruise-or-bleed habitat season  cap-diameter  stem-height  \\\n",
       "Id                                                                     \n",
       "34365                    f       g      a          2.31          7.8   \n",
       "\n",
       "       stem-width  \n",
       "Id                 \n",
       "34365         2.6  "
      ]
     },
     "execution_count": 2,
     "metadata": {},
     "output_type": "execute_result"
    }
   ],
   "source": [
    "TRAIN_PATH = \"/home/khaymon/spooky-trees/data/competition/train.csv\"\n",
    "TEST_PATH = \"/home/khaymon/spooky-trees/data/competition/test.csv\"\n",
    "\n",
    "data = pd.read_csv(TRAIN_PATH, index_col=\"Id\")\n",
    "\n",
    "X = data.drop([\"class\"], axis=1)\n",
    "y = data[\"class\"].to_numpy()\n",
    "\n",
    "X.sample()"
   ]
  },
  {
   "cell_type": "code",
   "execution_count": 3,
   "metadata": {},
   "outputs": [],
   "source": [
    "y_preprocessed = np.zeros((len(y), 2))\n",
    "y_preprocessed[y == 1, 1] = 1\n",
    "y_preprocessed[y == 0, 0] = 1"
   ]
  },
  {
   "cell_type": "code",
   "execution_count": 4,
   "metadata": {},
   "outputs": [
    {
     "data": {
      "text/plain": [
       "array([[ 8.94,  7.91, 24.55, ...,  0.  ,  1.  ,  0.  ],\n",
       "       [ 2.92,  3.59,  6.59, ...,  0.  ,  0.  ,  0.  ],\n",
       "       [ 4.11,  4.78,  3.56, ...,  0.  ,  0.  ,  0.  ],\n",
       "       ...,\n",
       "       [ 3.28,  4.29,  2.64, ...,  1.  ,  0.  ,  0.  ],\n",
       "       [ 6.7 ,  7.67, 50.19, ...,  0.  ,  0.  ,  0.  ],\n",
       "       [21.51,  4.99, 37.01, ...,  0.  ,  0.  ,  0.  ]])"
      ]
     },
     "execution_count": 4,
     "metadata": {},
     "output_type": "execute_result"
    }
   ],
   "source": [
    "TRANSFORM_COLUMNS = [\"does-bruise-or-bleed\", \"habitat\", \"season\"]\n",
    "CAT_COLUMNS_IDS = {0, 1, 2}\n",
    "\n",
    "encoder = OneHotEncoder(transform_columns=TRANSFORM_COLUMNS)\n",
    "# encoder = LabelEncoder(TRANSFORM_COLUMNS)\n",
    "\n",
    "X_preprocessed = encoder.fit_transform(X)\n",
    "X_preprocessed"
   ]
  },
  {
   "cell_type": "markdown",
   "metadata": {},
   "source": [
    "## CV"
   ]
  },
  {
   "cell_type": "code",
   "execution_count": 5,
   "metadata": {},
   "outputs": [
    {
     "name": "stderr",
     "output_type": "stream",
     "text": [
      "val metric: 0.644, lr: 0.010:   0%|          | 0/100 [00:00<?, ?it/s]"
     ]
    },
    {
     "name": "stdout",
     "output_type": "stream",
     "text": [
      "(4750, 2) (2,)\n"
     ]
    },
    {
     "name": "stderr",
     "output_type": "stream",
     "text": [
      "\n"
     ]
    },
    {
     "ename": "AssertionError",
     "evalue": "",
     "output_type": "error",
     "traceback": [
      "\u001b[0;31m---------------------------------------------------------------------------\u001b[0m",
      "\u001b[0;31mIndexError\u001b[0m                                Traceback (most recent call last)",
      "File \u001b[0;32m~/spooky-trees/spooky_trees/criterions/spooky_exponential.py:33\u001b[0m, in \u001b[0;36mSpookyExponential._exp\u001b[0;34m(self, y, predictions)\u001b[0m\n\u001b[1;32m     32\u001b[0m \u001b[38;5;28;01mtry\u001b[39;00m:\n\u001b[0;32m---> 33\u001b[0m     \u001b[38;5;28;01mreturn\u001b[39;00m np\u001b[38;5;241m.\u001b[39mexp(np\u001b[38;5;241m.\u001b[39msum(\u001b[38;5;241m-\u001b[39m\u001b[38;5;28;43mself\u001b[39;49m\u001b[38;5;241;43m.\u001b[39;49m\u001b[43mprobas\u001b[49m\u001b[43m(\u001b[49m\u001b[43my\u001b[49m\u001b[43m)\u001b[49m\u001b[43m[\u001b[49m\u001b[43mnon_zero_mask\u001b[49m\u001b[43m]\u001b[49m \u001b[38;5;241m*\u001b[39m predictions[non_zero_mask]))\n\u001b[1;32m     34\u001b[0m \u001b[38;5;28;01mexcept\u001b[39;00m:\n",
      "\u001b[0;31mIndexError\u001b[0m: too many indices for array: array is 1-dimensional, but 2 were indexed",
      "\nDuring handling of the above exception, another exception occurred:\n",
      "\u001b[0;31mAssertionError\u001b[0m                            Traceback (most recent call last)",
      "Cell \u001b[0;32mIn[5], line 9\u001b[0m\n\u001b[1;32m      6\u001b[0m y_train, y_test \u001b[38;5;241m=\u001b[39m y_preprocessed[train_ids], y_preprocessed[test_ids]\n\u001b[1;32m      8\u001b[0m adaboost \u001b[38;5;241m=\u001b[39m AdaSpookyBoost(criterion\u001b[38;5;241m=\u001b[39mSpookyEntropy, max_depth\u001b[38;5;241m=\u001b[39m\u001b[38;5;241m2\u001b[39m, n_estimators\u001b[38;5;241m=\u001b[39m\u001b[38;5;241m100\u001b[39m, n_classes\u001b[38;5;241m=\u001b[39m\u001b[38;5;241m2\u001b[39m, learning_rate\u001b[38;5;241m=\u001b[39m\u001b[38;5;241m1e-2\u001b[39m)\n\u001b[0;32m----> 9\u001b[0m \u001b[43madaboost\u001b[49m\u001b[38;5;241;43m.\u001b[39;49m\u001b[43mfit\u001b[49m\u001b[43m(\u001b[49m\u001b[43mX_train\u001b[49m\u001b[43m,\u001b[49m\u001b[43m \u001b[49m\u001b[43my_train\u001b[49m\u001b[43m)\u001b[49m\n\u001b[1;32m     10\u001b[0m predictions \u001b[38;5;241m=\u001b[39m adaboost\u001b[38;5;241m.\u001b[39mpredict(X_test)\n\u001b[1;32m     12\u001b[0m current_f1 \u001b[38;5;241m=\u001b[39m f1_score(y_test, predictions)\n",
      "File \u001b[0;32m~/spooky-trees/spooky_trees/models/ada_spooky_boost.py:100\u001b[0m, in \u001b[0;36mAdaSpookyBoost.fit\u001b[0;34m(self, X, y)\u001b[0m\n\u001b[1;32m     97\u001b[0m         \u001b[38;5;28;01mif\u001b[39;00m last_min_val_metric_update \u001b[38;5;241m>\u001b[39m \u001b[38;5;28mself\u001b[39m\u001b[38;5;241m.\u001b[39m_early_stop_patience:\n\u001b[1;32m     98\u001b[0m             \u001b[38;5;28;01mbreak\u001b[39;00m\n\u001b[0;32m--> 100\u001b[0m         current_weights \u001b[38;5;241m=\u001b[39m \u001b[43mcriterion\u001b[49m\u001b[43m(\u001b[49m\u001b[43my_train\u001b[49m\u001b[43m,\u001b[49m\u001b[43m \u001b[49m\u001b[43mtrain_prediction\u001b[49m\u001b[43m)\u001b[49m\n\u001b[1;32m    101\u001b[0m \u001b[38;5;28;01mexcept\u001b[39;00m \u001b[38;5;167;01mKeyboardInterrupt\u001b[39;00m:\n\u001b[1;32m    102\u001b[0m     \u001b[38;5;241m.\u001b[39m\u001b[38;5;241m.\u001b[39m\u001b[38;5;241m.\u001b[39m\n",
      "File \u001b[0;32m~/spooky-trees/spooky_trees/criterions/spooky_exponential.py:44\u001b[0m, in \u001b[0;36mSpookyExponential.__call__\u001b[0;34m(self, y, predictions, weights, **kwargs)\u001b[0m\n\u001b[1;32m     41\u001b[0m \u001b[38;5;28;01mif\u001b[39;00m weights \u001b[38;5;129;01mis\u001b[39;00m \u001b[38;5;28;01mNone\u001b[39;00m:\n\u001b[1;32m     42\u001b[0m     weights \u001b[38;5;241m=\u001b[39m np\u001b[38;5;241m.\u001b[39mones_like(y) \u001b[38;5;241m/\u001b[39m \u001b[38;5;28mlen\u001b[39m(y)\n\u001b[0;32m---> 44\u001b[0m \u001b[38;5;28;01mreturn\u001b[39;00m np\u001b[38;5;241m.\u001b[39msum(weights \u001b[38;5;241m*\u001b[39m \u001b[38;5;28;43mself\u001b[39;49m\u001b[38;5;241;43m.\u001b[39;49m\u001b[43m_exp\u001b[49m\u001b[43m(\u001b[49m\u001b[43my\u001b[49m\u001b[43m,\u001b[49m\u001b[43m \u001b[49m\u001b[43mpredictions\u001b[49m\u001b[43m)\u001b[49m)\n",
      "File \u001b[0;32m~/spooky-trees/spooky_trees/criterions/spooky_exponential.py:36\u001b[0m, in \u001b[0;36mSpookyExponential._exp\u001b[0;34m(self, y, predictions)\u001b[0m\n\u001b[1;32m     34\u001b[0m \u001b[38;5;28;01mexcept\u001b[39;00m:\n\u001b[1;32m     35\u001b[0m     \u001b[38;5;28mprint\u001b[39m(predictions\u001b[38;5;241m.\u001b[39mshape, \u001b[38;5;28mself\u001b[39m\u001b[38;5;241m.\u001b[39mprobas(y)\u001b[38;5;241m.\u001b[39mshape)\n\u001b[0;32m---> 36\u001b[0m     \u001b[38;5;28;01massert\u001b[39;00m \u001b[38;5;28;01mFalse\u001b[39;00m\n",
      "\u001b[0;31mAssertionError\u001b[0m: "
     ]
    }
   ],
   "source": [
    "kfold = KFold()\n",
    "\n",
    "metrics = []\n",
    "for split_idx, (train_ids, test_ids) in enumerate(kfold.split(len(X_preprocessed))):\n",
    "    X_train, X_test = X_preprocessed[train_ids], X_preprocessed[test_ids]\n",
    "    y_train, y_test = y_preprocessed[train_ids], y_preprocessed[test_ids]\n",
    "\n",
    "    adaboost = AdaSpookyBoost(criterion=SpookyEntropy, max_depth=2, n_estimators=100, n_classes=2, learning_rate=1e-2)\n",
    "    adaboost.fit(X_train, y_train)\n",
    "    predictions = adaboost.predict(X_test)\n",
    "\n",
    "    current_f1 = f1_score(y_test, predictions)\n",
    "\n",
    "    print(f\"Split idx: {split_idx}, f1: {current_f1}\")\n",
    "    metrics.append(current_f1)\n",
    "\n",
    "print(f\"Avg f1: {np.mean(metrics)}\")"
   ]
  },
  {
   "cell_type": "markdown",
   "metadata": {},
   "source": [
    "## Train"
   ]
  },
  {
   "cell_type": "code",
   "execution_count": null,
   "metadata": {},
   "outputs": [],
   "source": [
    "X_train, X_test, y_train, y_test = train_test_split(X_preprocessed, y_preprocessed, test_size=0.2)"
   ]
  },
  {
   "cell_type": "code",
   "execution_count": null,
   "metadata": {},
   "outputs": [
    {
     "name": "stderr",
     "output_type": "stream",
     "text": [
      "val metric: 0.787, lr: 0.020:  14%|█▋          | 14/100 [00:38<03:48,  2.65s/it]"
     ]
    }
   ],
   "source": [
    "forest = GradSpookyBoost(\n",
    "    criterion=SpookyEntropy,\n",
    "    n_estimators=100,\n",
    "    n_classes=2,\n",
    "    learning_rate=0.02,\n",
    "    learning_rate_decay=0.9,\n",
    "    max_depth=10,\n",
    "#     min_information_gain=5e-5,\n",
    "    min_samples_split=5,\n",
    "    rsm=0.8,\n",
    "    early_stop=True,\n",
    "    early_stop_patience=20,\n",
    "    reduce_lr_on_plateu=True,\n",
    "    reduce_lr_on_plateu_patience=15,\n",
    "#     cat_features=CAT_COLUMNS_IDS,\n",
    ")\n",
    "\n",
    "forest.fit(X_train, y_train)"
   ]
  },
  {
   "cell_type": "code",
   "execution_count": null,
   "metadata": {},
   "outputs": [
    {
     "data": {
      "text/plain": [
       "0.8091511137868754"
      ]
     },
     "metadata": {},
     "output_type": "display_data"
    }
   ],
   "source": [
    "f1_score(y_test, forest.predict_proba(X_test))"
   ]
  }
 ],
 "metadata": {
  "kernelspec": {
   "display_name": "Python 3",
   "language": "python",
   "name": "python3"
  },
  "language_info": {
   "codemirror_mode": {
    "name": "ipython",
    "version": 3
   },
   "file_extension": ".py",
   "mimetype": "text/x-python",
   "name": "python",
   "nbconvert_exporter": "python",
   "pygments_lexer": "ipython3",
   "version": "3.8.10"
  }
 },
 "nbformat": 4,
 "nbformat_minor": 2
}
