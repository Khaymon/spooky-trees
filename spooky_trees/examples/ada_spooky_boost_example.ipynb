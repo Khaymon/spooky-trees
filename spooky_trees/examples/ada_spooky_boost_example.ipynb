{
 "cells": [
  {
   "cell_type": "markdown",
   "metadata": {},
   "source": [
    "## Imports"
   ]
  },
  {
   "cell_type": "code",
   "execution_count": 1,
   "metadata": {},
   "outputs": [],
   "source": [
    "import numpy as np\n",
    "import pandas as pd\n",
    "import sys\n",
    "\n",
    "sys.path.append(\"/home/khaymon/spooky-trees/\")\n",
    "\n",
    "from spooky_trees.criterions import SpookyEntropy, SpookyMSE\n",
    "from spooky_trees.models import AdaSpookyBoost, SpookyTree\n",
    "from spooky_trees.preprocess import OneHotEncoder, LabelEncoder\n",
    "from spooky_trees.model_selection import KFold, train_test_split\n",
    "from spooky_trees.metrics import f1_score"
   ]
  },
  {
   "cell_type": "markdown",
   "metadata": {},
   "source": [
    "## Data"
   ]
  },
  {
   "cell_type": "code",
   "execution_count": 2,
   "metadata": {},
   "outputs": [
    {
     "data": {
      "text/html": [
       "<div>\n",
       "<style scoped>\n",
       "    .dataframe tbody tr th:only-of-type {\n",
       "        vertical-align: middle;\n",
       "    }\n",
       "\n",
       "    .dataframe tbody tr th {\n",
       "        vertical-align: top;\n",
       "    }\n",
       "\n",
       "    .dataframe thead th {\n",
       "        text-align: right;\n",
       "    }\n",
       "</style>\n",
       "<table border=\"1\" class=\"dataframe\">\n",
       "  <thead>\n",
       "    <tr style=\"text-align: right;\">\n",
       "      <th></th>\n",
       "      <th>does-bruise-or-bleed</th>\n",
       "      <th>habitat</th>\n",
       "      <th>season</th>\n",
       "      <th>cap-diameter</th>\n",
       "      <th>stem-height</th>\n",
       "      <th>stem-width</th>\n",
       "    </tr>\n",
       "    <tr>\n",
       "      <th>Id</th>\n",
       "      <th></th>\n",
       "      <th></th>\n",
       "      <th></th>\n",
       "      <th></th>\n",
       "      <th></th>\n",
       "      <th></th>\n",
       "    </tr>\n",
       "  </thead>\n",
       "  <tbody>\n",
       "    <tr>\n",
       "      <th>20548</th>\n",
       "      <td>f</td>\n",
       "      <td>m</td>\n",
       "      <td>a</td>\n",
       "      <td>3.32</td>\n",
       "      <td>4.1</td>\n",
       "      <td>6.7</td>\n",
       "    </tr>\n",
       "  </tbody>\n",
       "</table>\n",
       "</div>"
      ],
      "text/plain": [
       "      does-bruise-or-bleed habitat season  cap-diameter  stem-height  \\\n",
       "Id                                                                     \n",
       "20548                    f       m      a          3.32          4.1   \n",
       "\n",
       "       stem-width  \n",
       "Id                 \n",
       "20548         6.7  "
      ]
     },
     "execution_count": 2,
     "metadata": {},
     "output_type": "execute_result"
    }
   ],
   "source": [
    "TRAIN_PATH = \"/home/khaymon/spooky-trees/data/competition/train.csv\"\n",
    "TEST_PATH = \"/home/khaymon/spooky-trees/data/competition/test.csv\"\n",
    "\n",
    "data = pd.read_csv(TRAIN_PATH, index_col=\"Id\")\n",
    "\n",
    "X = data.drop([\"class\"], axis=1)\n",
    "y = data[\"class\"].to_numpy()\n",
    "\n",
    "X.sample()"
   ]
  },
  {
   "cell_type": "code",
   "execution_count": 3,
   "metadata": {},
   "outputs": [],
   "source": [
    "y_preprocessed = np.zeros((len(y), 2))\n",
    "y_preprocessed[y == 1, 1] = 1\n",
    "y_preprocessed[y == 0, 0] = 1"
   ]
  },
  {
   "cell_type": "code",
   "execution_count": 4,
   "metadata": {},
   "outputs": [
    {
     "data": {
      "text/plain": [
       "array([[ 8.94,  7.91, 24.55, ...,  0.  ,  1.  ,  0.  ],\n",
       "       [ 2.92,  3.59,  6.59, ...,  0.  ,  0.  ,  0.  ],\n",
       "       [ 4.11,  4.78,  3.56, ...,  0.  ,  0.  ,  0.  ],\n",
       "       ...,\n",
       "       [ 3.28,  4.29,  2.64, ...,  1.  ,  0.  ,  0.  ],\n",
       "       [ 6.7 ,  7.67, 50.19, ...,  0.  ,  0.  ,  0.  ],\n",
       "       [21.51,  4.99, 37.01, ...,  0.  ,  0.  ,  0.  ]])"
      ]
     },
     "execution_count": 4,
     "metadata": {},
     "output_type": "execute_result"
    }
   ],
   "source": [
    "TRANSFORM_COLUMNS = [\"does-bruise-or-bleed\", \"habitat\", \"season\"]\n",
    "CAT_COLUMNS_IDS = {0, 1, 2}\n",
    "\n",
    "encoder = OneHotEncoder(transform_columns=TRANSFORM_COLUMNS)\n",
    "# encoder = LabelEncoder(TRANSFORM_COLUMNS)\n",
    "\n",
    "X_preprocessed = encoder.fit_transform(X)\n",
    "X_preprocessed"
   ]
  },
  {
   "cell_type": "markdown",
   "metadata": {},
   "source": [
    "## CV"
   ]
  },
  {
   "cell_type": "code",
   "execution_count": 6,
   "metadata": {},
   "outputs": [
    {
     "name": "stderr",
     "output_type": "stream",
     "text": [
      "val metric: 0.596, lr: 0.000: 100%|███████████| 100/100 [02:44<00:00,  1.64s/it]\n"
     ]
    },
    {
     "name": "stdout",
     "output_type": "stream",
     "text": [
      "Split idx: 0, f1: 0.6899563318777293\n"
     ]
    },
    {
     "name": "stderr",
     "output_type": "stream",
     "text": [
      "val metric: 0.631, lr: 0.000:  45%|█████▍      | 45/100 [01:13<01:30,  1.64s/it]"
     ]
    },
    {
     "name": "stdout",
     "output_type": "stream",
     "text": [
      "(2,) (2,)\n"
     ]
    },
    {
     "name": "stderr",
     "output_type": "stream",
     "text": [
      "\n"
     ]
    },
    {
     "ename": "AssertionError",
     "evalue": "",
     "output_type": "error",
     "traceback": [
      "\u001b[0;31m---------------------------------------------------------------------------\u001b[0m",
      "\u001b[0;31mKeyboardInterrupt\u001b[0m                         Traceback (most recent call last)",
      "File \u001b[0;32m~/spooky-trees/spooky_trees/criterions/spooky_exponential.py:33\u001b[0m, in \u001b[0;36mSpookyExponential._exp\u001b[0;34m(self, y, predictions)\u001b[0m\n\u001b[1;32m     32\u001b[0m \u001b[38;5;28;01mtry\u001b[39;00m:\n\u001b[0;32m---> 33\u001b[0m     \u001b[38;5;28;01mreturn\u001b[39;00m np\u001b[38;5;241m.\u001b[39mexp(np\u001b[38;5;241m.\u001b[39msum(\u001b[38;5;241m-\u001b[39m\u001b[38;5;28;43mself\u001b[39;49m\u001b[38;5;241;43m.\u001b[39;49m\u001b[43mprobas\u001b[49m\u001b[43m(\u001b[49m\u001b[43my\u001b[49m\u001b[43m)\u001b[49m[non_zero_mask] \u001b[38;5;241m*\u001b[39m predictions[non_zero_mask]))\n\u001b[1;32m     34\u001b[0m \u001b[38;5;28;01mexcept\u001b[39;00m:\n",
      "File \u001b[0;32m~/spooky-trees/spooky_trees/criterions/spooky_exponential.py:21\u001b[0m, in \u001b[0;36mSpookyExponential.probas\u001b[0;34m(self, classes, weights, **kwargs)\u001b[0m\n\u001b[1;32m     20\u001b[0m \u001b[38;5;28;01mif\u001b[39;00m classes\u001b[38;5;241m.\u001b[39mndim \u001b[38;5;241m==\u001b[39m \u001b[38;5;241m2\u001b[39m:\n\u001b[0;32m---> 21\u001b[0m     counts \u001b[38;5;241m=\u001b[39m \u001b[43m(\u001b[49m\u001b[43mweights\u001b[49m\u001b[43m[\u001b[49m\u001b[43m:\u001b[49m\u001b[43m,\u001b[49m\u001b[43m \u001b[49m\u001b[38;5;28;43;01mNone\u001b[39;49;00m\u001b[43m]\u001b[49m\u001b[43m \u001b[49m\u001b[38;5;241;43m*\u001b[39;49m\u001b[43m \u001b[49m\u001b[43mclasses\u001b[49m\u001b[43m)\u001b[49m\u001b[38;5;241;43m.\u001b[39;49m\u001b[43msum\u001b[49m\u001b[43m(\u001b[49m\u001b[43maxis\u001b[49m\u001b[38;5;241;43m=\u001b[39;49m\u001b[38;5;241;43m0\u001b[39;49m\u001b[43m)\u001b[49m \n\u001b[1;32m     22\u001b[0m     \u001b[38;5;28;01massert\u001b[39;00m \u001b[38;5;28mlen\u001b[39m(counts) \u001b[38;5;241m==\u001b[39m \u001b[38;5;28mself\u001b[39m\u001b[38;5;241m.\u001b[39m_n_classes\n",
      "File \u001b[0;32m~/.local/lib/python3.8/site-packages/numpy/core/_methods.py:49\u001b[0m, in \u001b[0;36m_sum\u001b[0;34m(a, axis, dtype, out, keepdims, initial, where)\u001b[0m\n\u001b[1;32m     47\u001b[0m \u001b[38;5;28;01mdef\u001b[39;00m \u001b[38;5;21m_sum\u001b[39m(a, axis\u001b[38;5;241m=\u001b[39m\u001b[38;5;28;01mNone\u001b[39;00m, dtype\u001b[38;5;241m=\u001b[39m\u001b[38;5;28;01mNone\u001b[39;00m, out\u001b[38;5;241m=\u001b[39m\u001b[38;5;28;01mNone\u001b[39;00m, keepdims\u001b[38;5;241m=\u001b[39m\u001b[38;5;28;01mFalse\u001b[39;00m,\n\u001b[1;32m     48\u001b[0m          initial\u001b[38;5;241m=\u001b[39m_NoValue, where\u001b[38;5;241m=\u001b[39m\u001b[38;5;28;01mTrue\u001b[39;00m):\n\u001b[0;32m---> 49\u001b[0m     \u001b[38;5;28;01mreturn\u001b[39;00m \u001b[43mumr_sum\u001b[49m\u001b[43m(\u001b[49m\u001b[43ma\u001b[49m\u001b[43m,\u001b[49m\u001b[43m \u001b[49m\u001b[43maxis\u001b[49m\u001b[43m,\u001b[49m\u001b[43m \u001b[49m\u001b[43mdtype\u001b[49m\u001b[43m,\u001b[49m\u001b[43m \u001b[49m\u001b[43mout\u001b[49m\u001b[43m,\u001b[49m\u001b[43m \u001b[49m\u001b[43mkeepdims\u001b[49m\u001b[43m,\u001b[49m\u001b[43m \u001b[49m\u001b[43minitial\u001b[49m\u001b[43m,\u001b[49m\u001b[43m \u001b[49m\u001b[43mwhere\u001b[49m\u001b[43m)\u001b[49m\n",
      "\u001b[0;31mKeyboardInterrupt\u001b[0m: ",
      "\nDuring handling of the above exception, another exception occurred:\n",
      "\u001b[0;31mAssertionError\u001b[0m                            Traceback (most recent call last)",
      "Cell \u001b[0;32mIn[6], line 9\u001b[0m\n\u001b[1;32m      6\u001b[0m y_train, y_test \u001b[38;5;241m=\u001b[39m y_preprocessed[train_ids], y_preprocessed[test_ids]\n\u001b[1;32m      8\u001b[0m adaboost \u001b[38;5;241m=\u001b[39m AdaSpookyBoost(criterion\u001b[38;5;241m=\u001b[39mSpookyEntropy, max_depth\u001b[38;5;241m=\u001b[39m\u001b[38;5;241m4\u001b[39m, n_estimators\u001b[38;5;241m=\u001b[39m\u001b[38;5;241m100\u001b[39m, n_classes\u001b[38;5;241m=\u001b[39m\u001b[38;5;241m2\u001b[39m, learning_rate\u001b[38;5;241m=\u001b[39m\u001b[38;5;241m1e-5\u001b[39m)\n\u001b[0;32m----> 9\u001b[0m \u001b[43madaboost\u001b[49m\u001b[38;5;241;43m.\u001b[39;49m\u001b[43mfit\u001b[49m\u001b[43m(\u001b[49m\u001b[43mX_train\u001b[49m\u001b[43m,\u001b[49m\u001b[43m \u001b[49m\u001b[43my_train\u001b[49m\u001b[43m)\u001b[49m\n\u001b[1;32m     10\u001b[0m predictions \u001b[38;5;241m=\u001b[39m adaboost\u001b[38;5;241m.\u001b[39mpredict(X_test)\n\u001b[1;32m     12\u001b[0m current_f1 \u001b[38;5;241m=\u001b[39m f1_score(y_test, predictions)\n",
      "File \u001b[0;32m~/spooky-trees/spooky_trees/models/ada_spooky_boost.py:62\u001b[0m, in \u001b[0;36mAdaSpookyBoost.fit\u001b[0;34m(self, X, y)\u001b[0m\n\u001b[1;32m     60\u001b[0m \u001b[38;5;28;01mtry\u001b[39;00m:\n\u001b[1;32m     61\u001b[0m     \u001b[38;5;28;01mfor\u001b[39;00m idx \u001b[38;5;129;01min\u001b[39;00m progress_bar:\n\u001b[0;32m---> 62\u001b[0m         current_estimator \u001b[38;5;241m=\u001b[39m \u001b[43mSpookyTree\u001b[49m\u001b[43m(\u001b[49m\u001b[38;5;241;43m*\u001b[39;49m\u001b[38;5;241;43m*\u001b[39;49m\u001b[43mtree_params\u001b[49m\u001b[43m)\u001b[49m\u001b[38;5;241;43m.\u001b[39;49m\u001b[43mfit\u001b[49m\u001b[43m(\u001b[49m\u001b[43mX_train\u001b[49m\u001b[43m,\u001b[49m\u001b[43m \u001b[49m\u001b[43my_train\u001b[49m\u001b[43m,\u001b[49m\u001b[43m \u001b[49m\u001b[43mweights\u001b[49m\u001b[38;5;241;43m=\u001b[39;49m\u001b[43mcurrent_weights\u001b[49m\u001b[43m)\u001b[49m\n\u001b[1;32m     63\u001b[0m         \u001b[38;5;28mself\u001b[39m\u001b[38;5;241m.\u001b[39m_estimators\u001b[38;5;241m.\u001b[39mappend(current_estimator)\n\u001b[1;32m     65\u001b[0m         current_train_prediction \u001b[38;5;241m=\u001b[39m \u001b[38;5;28mself\u001b[39m\u001b[38;5;241m.\u001b[39m_learning_rate \u001b[38;5;241m*\u001b[39m current_estimator\u001b[38;5;241m.\u001b[39mpredict_proba(X_train)\n",
      "File \u001b[0;32m~/spooky-trees/spooky_trees/models/spooky_tree.py:264\u001b[0m, in \u001b[0;36mSpookyTree.fit\u001b[0;34m(self, X, y, weights)\u001b[0m\n\u001b[1;32m    262\u001b[0m prediction \u001b[38;5;241m=\u001b[39m \u001b[38;5;28mself\u001b[39m\u001b[38;5;241m.\u001b[39mcriterion\u001b[38;5;241m.\u001b[39mpredict(y, weights)\n\u001b[1;32m    263\u001b[0m \u001b[38;5;28mself\u001b[39m\u001b[38;5;241m.\u001b[39m_root \u001b[38;5;241m=\u001b[39m SpookyNode(prediction\u001b[38;5;241m=\u001b[39mprediction)\n\u001b[0;32m--> 264\u001b[0m \u001b[38;5;28;43mself\u001b[39;49m\u001b[38;5;241;43m.\u001b[39;49m\u001b[43m_spooky_branch\u001b[49m\u001b[43m(\u001b[49m\u001b[43mX\u001b[49m\u001b[38;5;241;43m=\u001b[39;49m\u001b[43mX\u001b[49m\u001b[43m,\u001b[49m\u001b[43m \u001b[49m\u001b[43my\u001b[49m\u001b[38;5;241;43m=\u001b[39;49m\u001b[43my\u001b[49m\u001b[43m,\u001b[49m\u001b[43m \u001b[49m\u001b[43mweights\u001b[49m\u001b[38;5;241;43m=\u001b[39;49m\u001b[43mweights\u001b[49m\u001b[43m,\u001b[49m\u001b[43m \u001b[49m\u001b[43mnode\u001b[49m\u001b[38;5;241;43m=\u001b[39;49m\u001b[38;5;28;43mself\u001b[39;49m\u001b[38;5;241;43m.\u001b[39;49m\u001b[43m_root\u001b[49m\u001b[43m,\u001b[49m\u001b[43m \u001b[49m\u001b[43mdepth\u001b[49m\u001b[38;5;241;43m=\u001b[39;49m\u001b[38;5;241;43m1\u001b[39;49m\u001b[43m)\u001b[49m\n\u001b[1;32m    266\u001b[0m \u001b[38;5;28;01mreturn\u001b[39;00m \u001b[38;5;28mself\u001b[39m\n",
      "File \u001b[0;32m~/spooky-trees/spooky_trees/models/spooky_tree.py:196\u001b[0m, in \u001b[0;36mSpookyTree._spooky_branch\u001b[0;34m(self, X, y, weights, node, depth)\u001b[0m\n\u001b[1;32m    193\u001b[0m \u001b[38;5;28;01mif\u001b[39;00m \u001b[38;5;28mlen\u001b[39m(X) \u001b[38;5;241m<\u001b[39m \u001b[38;5;28mself\u001b[39m\u001b[38;5;241m.\u001b[39mmin_samples_split:\n\u001b[1;32m    194\u001b[0m     \u001b[38;5;28;01mreturn\u001b[39;00m\n\u001b[0;32m--> 196\u001b[0m feature_idx, threshold, criterion \u001b[38;5;241m=\u001b[39m \u001b[38;5;28;43mself\u001b[39;49m\u001b[38;5;241;43m.\u001b[39;49m\u001b[43m_get_best_feature\u001b[49m\u001b[43m(\u001b[49m\u001b[43mX\u001b[49m\u001b[43m,\u001b[49m\u001b[43m \u001b[49m\u001b[43my\u001b[49m\u001b[43m,\u001b[49m\u001b[43m \u001b[49m\u001b[43mweights\u001b[49m\u001b[43m)\u001b[49m\n\u001b[1;32m    198\u001b[0m y_predictions \u001b[38;5;241m=\u001b[39m \u001b[38;5;28mself\u001b[39m\u001b[38;5;241m.\u001b[39mcriterion\u001b[38;5;241m.\u001b[39mpredict(y, weights\u001b[38;5;241m=\u001b[39mweights)\n\u001b[1;32m    199\u001b[0m \u001b[38;5;28;01mif\u001b[39;00m \u001b[38;5;28mlen\u001b[39m(y) \u001b[38;5;241m*\u001b[39m \u001b[38;5;28mself\u001b[39m\u001b[38;5;241m.\u001b[39mcriterion(y, y_predictions, weights\u001b[38;5;241m=\u001b[39mweights) \u001b[38;5;241m-\u001b[39m criterion \u001b[38;5;241m<\u001b[39m \u001b[38;5;28mself\u001b[39m\u001b[38;5;241m.\u001b[39mmin_information_gain:\n",
      "File \u001b[0;32m~/spooky-trees/spooky_trees/models/spooky_tree.py:170\u001b[0m, in \u001b[0;36mSpookyTree._get_best_feature\u001b[0;34m(self, X, y, weights)\u001b[0m\n\u001b[1;32m    168\u001b[0m     threshold, current_criterion \u001b[38;5;241m=\u001b[39m \u001b[38;5;28mself\u001b[39m\u001b[38;5;241m.\u001b[39m_get_best_categorial_threshold(X, y, weights, idx)\n\u001b[1;32m    169\u001b[0m \u001b[38;5;28;01melse\u001b[39;00m:\n\u001b[0;32m--> 170\u001b[0m     threshold, current_criterion \u001b[38;5;241m=\u001b[39m \u001b[38;5;28;43mself\u001b[39;49m\u001b[38;5;241;43m.\u001b[39;49m\u001b[43m_get_best_numerical_threshold\u001b[49m\u001b[43m(\u001b[49m\u001b[43mX\u001b[49m\u001b[43m,\u001b[49m\u001b[43m \u001b[49m\u001b[43my\u001b[49m\u001b[43m,\u001b[49m\u001b[43m \u001b[49m\u001b[43mweights\u001b[49m\u001b[43m,\u001b[49m\u001b[43m \u001b[49m\u001b[43midx\u001b[49m\u001b[43m)\u001b[49m\n\u001b[1;32m    172\u001b[0m \u001b[38;5;28;01mif\u001b[39;00m best_criterion \u001b[38;5;129;01mis\u001b[39;00m \u001b[38;5;28;01mNone\u001b[39;00m \u001b[38;5;129;01mor\u001b[39;00m current_criterion \u001b[38;5;241m<\u001b[39m best_criterion:\n\u001b[1;32m    173\u001b[0m     best_feature \u001b[38;5;241m=\u001b[39m idx\n",
      "File \u001b[0;32m~/spooky-trees/spooky_trees/models/spooky_tree.py:84\u001b[0m, in \u001b[0;36mSpookyTree._get_best_numerical_threshold\u001b[0;34m(self, X, y, weights, feature_idx)\u001b[0m\n\u001b[1;32m     81\u001b[0m y_left_predictions \u001b[38;5;241m=\u001b[39m \u001b[38;5;28mself\u001b[39m\u001b[38;5;241m.\u001b[39mcriterion\u001b[38;5;241m.\u001b[39mpredict(y_sorted[:idx], weights\u001b[38;5;241m=\u001b[39mleft_weights)\n\u001b[1;32m     82\u001b[0m y_right_predictions \u001b[38;5;241m=\u001b[39m \u001b[38;5;28mself\u001b[39m\u001b[38;5;241m.\u001b[39mcriterion\u001b[38;5;241m.\u001b[39mpredict(y_sorted[idx:], weights\u001b[38;5;241m=\u001b[39mright_weights)\n\u001b[0;32m---> 84\u001b[0m left_criterion \u001b[38;5;241m=\u001b[39m \u001b[38;5;28;43mself\u001b[39;49m\u001b[38;5;241;43m.\u001b[39;49m\u001b[43mcriterion\u001b[49m\u001b[43m(\u001b[49m\u001b[43my_sorted\u001b[49m\u001b[43m[\u001b[49m\u001b[43m:\u001b[49m\u001b[43midx\u001b[49m\u001b[43m]\u001b[49m\u001b[43m,\u001b[49m\u001b[43m \u001b[49m\u001b[43my_left_predictions\u001b[49m\u001b[43m,\u001b[49m\u001b[43m \u001b[49m\u001b[43mweights\u001b[49m\u001b[38;5;241;43m=\u001b[39;49m\u001b[43mleft_weights\u001b[49m\u001b[43m)\u001b[49m\n\u001b[1;32m     85\u001b[0m right_criterion \u001b[38;5;241m=\u001b[39m \u001b[38;5;28mself\u001b[39m\u001b[38;5;241m.\u001b[39mcriterion(y_sorted[idx:], y_right_predictions, weights\u001b[38;5;241m=\u001b[39mright_weights)\n\u001b[1;32m     87\u001b[0m criterion \u001b[38;5;241m=\u001b[39m left_criterion \u001b[38;5;241m*\u001b[39m idx \u001b[38;5;241m+\u001b[39m right_criterion \u001b[38;5;241m*\u001b[39m (\u001b[38;5;28mlen\u001b[39m(X_feature_sorted) \u001b[38;5;241m-\u001b[39m idx)\n",
      "File \u001b[0;32m~/spooky-trees/spooky_trees/criterions/spooky_exponential.py:44\u001b[0m, in \u001b[0;36mSpookyExponential.__call__\u001b[0;34m(self, y, predictions, weights, **kwargs)\u001b[0m\n\u001b[1;32m     41\u001b[0m \u001b[38;5;28;01mif\u001b[39;00m weights \u001b[38;5;129;01mis\u001b[39;00m \u001b[38;5;28;01mNone\u001b[39;00m:\n\u001b[1;32m     42\u001b[0m     weights \u001b[38;5;241m=\u001b[39m np\u001b[38;5;241m.\u001b[39mones_like(y) \u001b[38;5;241m/\u001b[39m \u001b[38;5;28mlen\u001b[39m(y)\n\u001b[0;32m---> 44\u001b[0m \u001b[38;5;28;01mreturn\u001b[39;00m np\u001b[38;5;241m.\u001b[39msum(weights \u001b[38;5;241m*\u001b[39m \u001b[38;5;28;43mself\u001b[39;49m\u001b[38;5;241;43m.\u001b[39;49m\u001b[43m_exp\u001b[49m\u001b[43m(\u001b[49m\u001b[43my\u001b[49m\u001b[43m,\u001b[49m\u001b[43m \u001b[49m\u001b[43mpredictions\u001b[49m\u001b[43m)\u001b[49m)\n",
      "File \u001b[0;32m~/spooky-trees/spooky_trees/criterions/spooky_exponential.py:36\u001b[0m, in \u001b[0;36mSpookyExponential._exp\u001b[0;34m(self, y, predictions)\u001b[0m\n\u001b[1;32m     34\u001b[0m \u001b[38;5;28;01mexcept\u001b[39;00m:\n\u001b[1;32m     35\u001b[0m     \u001b[38;5;28mprint\u001b[39m(predictions\u001b[38;5;241m.\u001b[39mshape, \u001b[38;5;28mself\u001b[39m\u001b[38;5;241m.\u001b[39mprobas(y)\u001b[38;5;241m.\u001b[39mshape)\n\u001b[0;32m---> 36\u001b[0m     \u001b[38;5;28;01massert\u001b[39;00m \u001b[38;5;28;01mFalse\u001b[39;00m\n",
      "\u001b[0;31mAssertionError\u001b[0m: "
     ]
    }
   ],
   "source": [
    "kfold = KFold()\n",
    "\n",
    "metrics = []\n",
    "for split_idx, (train_ids, test_ids) in enumerate(kfold.split(len(X_preprocessed))):\n",
    "    X_train, X_test = X_preprocessed[train_ids], X_preprocessed[test_ids]\n",
    "    y_train, y_test = y_preprocessed[train_ids], y_preprocessed[test_ids]\n",
    "\n",
    "    adaboost = AdaSpookyBoost(criterion=SpookyEntropy, max_depth=4, n_estimators=100, n_classes=2, learning_rate=1e-5)\n",
    "    adaboost.fit(X_train, y_train)\n",
    "    predictions = adaboost.predict(X_test)\n",
    "\n",
    "    current_f1 = f1_score(y_test, predictions)\n",
    "\n",
    "    print(f\"Split idx: {split_idx}, f1: {current_f1}\")\n",
    "    metrics.append(current_f1)\n",
    "\n",
    "print(f\"Avg f1: {np.mean(metrics)}\")"
   ]
  },
  {
   "cell_type": "markdown",
   "metadata": {},
   "source": [
    "## Train"
   ]
  },
  {
   "cell_type": "code",
   "execution_count": null,
   "metadata": {},
   "outputs": [],
   "source": [
    "X_train, X_test, y_train, y_test = train_test_split(X_preprocessed, y_preprocessed, test_size=0.2)"
   ]
  },
  {
   "cell_type": "code",
   "execution_count": null,
   "metadata": {},
   "outputs": [
    {
     "name": "stderr",
     "output_type": "stream",
     "text": [
      "val metric: 0.787, lr: 0.020:  14%|█▋          | 14/100 [00:38<03:48,  2.65s/it]"
     ]
    }
   ],
   "source": [
    "forest = GradSpookyBoost(\n",
    "    criterion=SpookyEntropy,\n",
    "    n_estimators=100,\n",
    "    n_classes=2,\n",
    "    learning_rate=0.02,\n",
    "    learning_rate_decay=0.9,\n",
    "    max_depth=10,\n",
    "#     min_information_gain=5e-5,\n",
    "    min_samples_split=5,\n",
    "    rsm=0.8,\n",
    "    early_stop=True,\n",
    "    early_stop_patience=20,\n",
    "    reduce_lr_on_plateu=True,\n",
    "    reduce_lr_on_plateu_patience=15,\n",
    "#     cat_features=CAT_COLUMNS_IDS,\n",
    ")\n",
    "\n",
    "forest.fit(X_train, y_train)"
   ]
  },
  {
   "cell_type": "code",
   "execution_count": null,
   "metadata": {},
   "outputs": [
    {
     "data": {
      "text/plain": [
       "0.8091511137868754"
      ]
     },
     "metadata": {},
     "output_type": "display_data"
    }
   ],
   "source": [
    "f1_score(y_test, forest.predict_proba(X_test))"
   ]
  }
 ],
 "metadata": {
  "kernelspec": {
   "display_name": "Python 3 (ipykernel)",
   "language": "python",
   "name": "python3"
  },
  "language_info": {
   "codemirror_mode": {
    "name": "ipython",
    "version": 3
   },
   "file_extension": ".py",
   "mimetype": "text/x-python",
   "name": "python",
   "nbconvert_exporter": "python",
   "pygments_lexer": "ipython3",
   "version": "3.8.10"
  }
 },
 "nbformat": 4,
 "nbformat_minor": 4
}
